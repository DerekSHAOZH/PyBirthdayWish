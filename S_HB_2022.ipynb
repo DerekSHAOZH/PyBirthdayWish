{
  "cells": [
    {
      "cell_type": "markdown",
      "metadata": {
        "id": "view-in-github",
        "colab_type": "text"
      },
      "source": [
        "<a href=\"https://colab.research.google.com/github/DerekSHAOZH/S_HappyBirthday_2022/blob/main/S_HB_2022.ipynb\" target=\"_parent\"><img src=\"https://colab.research.google.com/assets/colab-badge.svg\" alt=\"Open In Colab\"/></a>"
      ]
    },
    {
      "cell_type": "markdown",
      "metadata": {
        "id": "foaX4rcbgoQV"
      },
      "source": [
        "# Happy Birthday to my beloved girl in a nerdy way!\n",
        "\n",
        "### Please run the following code cells, and get ready to be surprised and moved (I hope so ^•ﻌ•^)\n",
        "### -- Derek, 12.11.2022 in Berlin, Germany\n"
      ]
    },
    {
      "cell_type": "markdown",
      "metadata": {
        "id": "56J9bLD-shKV"
      },
      "source": [
        "### step 1: coonect to some fancy Github repository (〃'▽'〃)"
      ]
    },
    {
      "cell_type": "code",
      "execution_count": null,
      "metadata": {
        "id": "qvToDDzyUBKJ"
      },
      "outputs": [],
      "source": [
        "! git clone https://github.com/DerekSHAOZH/S_HappyBirthday_2022.git && cd S_HappyBirthday_2022 && pip install -r requirements.txt"
      ]
    },
    {
      "cell_type": "markdown",
      "metadata": {
        "id": "6xhcKqDYsqFw"
      },
      "source": [
        "### step 2: dive into our project file (๑˃́ꇴ˂̀๑)"
      ]
    },
    {
      "cell_type": "code",
      "execution_count": null,
      "metadata": {
        "id": "yJgCk0eBUKGo"
      },
      "outputs": [],
      "source": [
        "%cd ./S_HappyBirthday_2022"
      ]
    },
    {
      "cell_type": "markdown",
      "metadata": {
        "id": "WZ8lrf-NssbJ"
      },
      "source": [
        "### step3: now play a beautiful song by me (˶˚ ᗨ ˚˶)\n",
        "Loading may take some time."
      ]
    },
    {
      "cell_type": "code",
      "execution_count": null,
      "metadata": {
        "id": "395B5XU4oUjS"
      },
      "outputs": [],
      "source": [
        "from IPython.display import Audio, display\n",
        "\n",
        "display(Audio(\"./Talking_to_the_moon final.mp3\", autoplay=True))"
      ]
    },
    {
      "cell_type": "markdown",
      "metadata": {
        "id": "9kxB35SGswVr"
      },
      "source": [
        "### step 4: where my love letter to you unfolds~~~"
      ]
    },
    {
      "cell_type": "code",
      "execution_count": null,
      "metadata": {
        "id": "Iah52v5bURwq"
      },
      "outputs": [],
      "source": [
        "! python3 ./PyBirthdayWish.py"
      ]
    }
  ],
  "metadata": {
    "colab": {
      "collapsed_sections": [],
      "provenance": [],
      "authorship_tag": "ABX9TyP7aA9fTY3MqZg6nRLRU1xz",
      "include_colab_link": true
    },
    "kernelspec": {
      "display_name": "Python 3",
      "name": "python3"
    },
    "language_info": {
      "name": "python"
    }
  },
  "nbformat": 4,
  "nbformat_minor": 0
}